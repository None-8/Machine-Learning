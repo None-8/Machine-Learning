{
 "cells": [
  {
   "cell_type": "code",
   "execution_count": 65,
   "metadata": {},
   "outputs": [
    {
     "name": "stdout",
     "output_type": "stream",
     "text": [
      "原矩阵：\n",
      "[[1 2 3]\n",
      " [4 5 6]\n",
      " [7 8 9]]\n",
      "<class 'numpy.matrix'>\n",
      "原数组：\n",
      "[[0 1]\n",
      " [2 3]\n",
      " [4 5]\n",
      " [6 7]]\n",
      "<class 'numpy.ndarray'>\n"
     ]
    }
   ],
   "source": [
    "import numpy as np\n",
    "\n",
    "matrix1 = np.mat(\"1 2 3;4 5 6;7 8 9\")\n",
    "print(\"原矩阵：\")\n",
    "print(matrix1)\n",
    "print(type(matrix1))\n",
    "\n",
    "a = np.arange(8)\n",
    "a = a.reshape(4,2)\n",
    "print(\"原数组：\")\n",
    "print(a)\n",
    "print(type(a))"
   ]
  },
  {
   "cell_type": "code",
   "execution_count": 19,
   "metadata": {},
   "outputs": [
    {
     "name": "stdout",
     "output_type": "stream",
     "text": [
      "矩阵最大值是：\n",
      "9\n",
      "矩阵最小值是：\n",
      "1\n"
     ]
    }
   ],
   "source": [
    "print(\"矩阵最大值是：\")\n",
    "print(matrix1.max())\n",
    "\n",
    "print(\"矩阵最小值是：\")\n",
    "print(matrix1.min())"
   ]
  },
  {
   "cell_type": "code",
   "execution_count": 21,
   "metadata": {},
   "outputs": [
    {
     "name": "stdout",
     "output_type": "stream",
     "text": [
      "矩阵平均值是：\n",
      "5.0\n",
      "矩阵的方差是：\n",
      "6.666666666666667\n",
      "矩阵的标准差是：\n",
      "2.581988897471611\n"
     ]
    }
   ],
   "source": [
    "print(\"矩阵平均值是：\")\n",
    "print(matrix1.mean())\n",
    "\n",
    "print(\"矩阵的方差是：\")\n",
    "print(matrix1.var())\n",
    "\n",
    "print(\"矩阵的标准差是：\")\n",
    "print(matrix1.std())"
   ]
  },
  {
   "cell_type": "code",
   "execution_count": 23,
   "metadata": {},
   "outputs": [
    {
     "name": "stdout",
     "output_type": "stream",
     "text": [
      "数组整形：\n"
     ]
    }
   ],
   "source": [
    "print(\"数组整形：\")"
   ]
  },
  {
   "cell_type": "code",
   "execution_count": 25,
   "metadata": {},
   "outputs": [
    {
     "name": "stdout",
     "output_type": "stream",
     "text": [
      "矩阵转置：\n",
      "[[1 4 7]\n",
      " [2 5 8]\n",
      " [3 6 9]]\n"
     ]
    }
   ],
   "source": [
    "print(\"矩阵转置：\")\n",
    "print(matrix1.T)"
   ]
  },
  {
   "cell_type": "code",
   "execution_count": 27,
   "metadata": {},
   "outputs": [
    {
     "name": "stdout",
     "output_type": "stream",
     "text": [
      "扁平化矩阵：\n",
      "[[1 2 3 4 5 6 7 8 9]]\n",
      "[[1 2 3 4 5 6 7 8 9]]\n"
     ]
    }
   ],
   "source": [
    "print(\"扁平化矩阵：\")\n",
    "print(matrix1.ravel())\n",
    "print(matrix1.flatten())"
   ]
  },
  {
   "cell_type": "code",
   "execution_count": 34,
   "metadata": {},
   "outputs": [
    {
     "name": "stdout",
     "output_type": "stream",
     "text": [
      "找矩阵的秩：\n",
      "2\n"
     ]
    }
   ],
   "source": [
    "print(\"找矩阵的秩：\")\n",
    "print(np.linalg.matrix_rank(matrix1))"
   ]
  },
  {
   "cell_type": "code",
   "execution_count": 41,
   "metadata": {},
   "outputs": [
    {
     "name": "stdout",
     "output_type": "stream",
     "text": [
      "计算矩阵行列式的值：\n",
      "6.66133814775094e-16\n",
      "-2.0000000000000004\n"
     ]
    }
   ],
   "source": [
    "print(\"计算矩阵行列式的值：\")\n",
    "print(np.linalg.det(matrix1))"
   ]
  },
  {
   "cell_type": "code",
   "execution_count": 45,
   "metadata": {},
   "outputs": [
    {
     "name": "stdout",
     "output_type": "stream",
     "text": [
      "获取矩阵对角元素：\n",
      "[1 5 9]\n",
      "[1 5 9]\n"
     ]
    }
   ],
   "source": [
    "print(\"获取矩阵对角元素：\")\n",
    "print(np.diag(matrix1))\n",
    "print(np.diagonal(matrix1))"
   ]
  },
  {
   "cell_type": "code",
   "execution_count": 48,
   "metadata": {},
   "outputs": [
    {
     "name": "stdout",
     "output_type": "stream",
     "text": [
      "计算矩阵的迹：\n",
      "[[15]]\n"
     ]
    }
   ],
   "source": [
    "print(\"计算矩阵的迹：\")\n",
    "print(matrix1.trace())"
   ]
  },
  {
   "cell_type": "code",
   "execution_count": 51,
   "metadata": {},
   "outputs": [
    {
     "name": "stdout",
     "output_type": "stream",
     "text": [
      "找特征值和向量\n",
      "矩阵的特征值\n",
      "[ 1.61168440e+01 -1.11684397e+00 -1.30367773e-15]\n",
      "返回包含特征值和对应的特征向量的元组\n",
      "(array([ 1.61168440e+01, -1.11684397e+00, -1.30367773e-15]), matrix([[-0.23197069, -0.78583024,  0.40824829],\n",
      "        [-0.52532209, -0.08675134, -0.81649658],\n",
      "        [-0.8186735 ,  0.61232756,  0.40824829]]))\n"
     ]
    }
   ],
   "source": [
    "print(\"找特征值和向量\")\n",
    "print(\"矩阵的特征值\")\n",
    "print(np.linalg.eigvals(matrix1))\n",
    "print(\"返回包含特征值和对应的特征向量的元组\")\n",
    "print(np.linalg.eig(matrix1))"
   ]
  },
  {
   "cell_type": "code",
   "execution_count": 54,
   "metadata": {},
   "outputs": [
    {
     "name": "stdout",
     "output_type": "stream",
     "text": [
      "matrix2：\n",
      "[[ 1  3  5]\n",
      " [ 2  4  6]\n",
      " [10 12  7]]\n",
      "计算点积：\n",
      "[[ 35  47  38]\n",
      " [ 74 104  92]\n",
      " [113 161 146]]\n"
     ]
    }
   ],
   "source": [
    "matrix2 = np.mat(\"1 3 5;2 4 6;10 12 7\")\n",
    "print(\"matrix2：\")\n",
    "print(matrix2)\n",
    "\n",
    "print(\"计算点积：\")\n",
    "print(np.dot(matrix1,matrix2))"
   ]
  },
  {
   "cell_type": "code",
   "execution_count": 60,
   "metadata": {},
   "outputs": [
    {
     "name": "stdout",
     "output_type": "stream",
     "text": [
      "[[1 2 3]\n",
      " [4 5 6]\n",
      " [7 8 9]]\n",
      "[[ 1  3  5]\n",
      " [ 2  4  6]\n",
      " [10 12  7]]\n",
      "计算矩阵的加法：\n",
      "[[ 2  5  8]\n",
      " [ 6  9 12]\n",
      " [17 20 16]]\n",
      "计算矩阵的减法：\n",
      "[[ 0 -1 -2]\n",
      " [ 2  1  0]\n",
      " [-3 -4  2]]\n"
     ]
    }
   ],
   "source": [
    "print(matrix1)\n",
    "print(matrix2)\n",
    "print(\"计算矩阵的加法：\")\n",
    "print(np.add(matrix1,matrix2))\n",
    "print(\"计算矩阵的减法：\")\n",
    "print(np.subtract(matrix1,matrix2))"
   ]
  },
  {
   "cell_type": "code",
   "execution_count": 64,
   "metadata": {},
   "outputs": [
    {
     "name": "stdout",
     "output_type": "stream",
     "text": [
      "计算矩阵的乘法：\n",
      "[[ 1  6 15]\n",
      " [ 8 20 36]\n",
      " [70 96 63]]\n",
      "计算矩阵的求逆：\n",
      "[[-4.50359963e+15  9.00719925e+15 -4.50359963e+15]\n",
      " [ 9.00719925e+15 -1.80143985e+16  9.00719925e+15]\n",
      " [-4.50359963e+15  9.00719925e+15 -4.50359963e+15]]\n"
     ]
    }
   ],
   "source": [
    "print(\"计算矩阵的乘法：\")\n",
    "print(np.multiply(matrix1,matrix2))\n",
    "print(\"计算矩阵的求逆：\")\n",
    "print(matrix1.I)"
   ]
  },
  {
   "cell_type": "code",
   "execution_count": null,
   "metadata": {},
   "outputs": [],
   "source": []
  }
 ],
 "metadata": {
  "kernelspec": {
   "display_name": "Python 3",
   "language": "python",
   "name": "python3"
  },
  "language_info": {
   "codemirror_mode": {
    "name": "ipython",
    "version": 3
   },
   "file_extension": ".py",
   "mimetype": "text/x-python",
   "name": "python",
   "nbconvert_exporter": "python",
   "pygments_lexer": "ipython3",
   "version": "3.7.4"
  }
 },
 "nbformat": 4,
 "nbformat_minor": 2
}
